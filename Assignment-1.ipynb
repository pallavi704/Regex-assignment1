{
 "cells": [
  {
   "cell_type": "markdown",
   "id": "da195111",
   "metadata": {},
   "source": [
    "# TASK 1"
   ]
  },
  {
   "cell_type": "markdown",
   "id": "0e54b5e2",
   "metadata": {},
   "source": [
    "## REGISTRATION ID - SIRSS2148"
   ]
  },
  {
   "cell_type": "markdown",
   "id": "c534c4a9",
   "metadata": {},
   "source": [
    "### NAME : SEERAM HARI PALLAVI"
   ]
  },
  {
   "cell_type": "markdown",
   "id": "908348e3",
   "metadata": {},
   "source": [
    "## Write code in python to print following patterns:-"
   ]
  },
  {
   "cell_type": "raw",
   "id": "bf472749",
   "metadata": {},
   "source": [
    "QUESTION 1: \n",
    "\n",
    "5 5 5 5 5\n",
    "5 5 5 5\n",
    "5 5 5\n",
    "5 5\n",
    "5"
   ]
  },
  {
   "cell_type": "code",
   "execution_count": 1,
   "id": "f7353803",
   "metadata": {},
   "outputs": [
    {
     "name": "stdout",
     "output_type": "stream",
     "text": [
      "5 5 5 5 5 \n",
      "5 5 5 5 \n",
      "5 5 5 \n",
      "5 5 \n",
      "5 \n"
     ]
    }
   ],
   "source": [
    "\"\"\"\n",
    "    DESCRIPTION: TO PRINT THE VALUE 5 IN THE PATTERN OF LEFT UPPER TRIANGLE\n",
    "\"\"\"\n",
    "\n",
    "for i in range(5):\n",
    "    print(\"5 \"*(5-i))"
   ]
  },
  {
   "cell_type": "raw",
   "id": "a33fb3dd",
   "metadata": {},
   "source": [
    "QUESTION 2:\n",
    "\n",
    "0 1 2 3 4 5\n",
    "0 1 2 3 4\n",
    "0 1 2 3\n",
    "0 1 2\n",
    "0 1"
   ]
  },
  {
   "cell_type": "code",
   "execution_count": 2,
   "id": "68712e68",
   "metadata": {},
   "outputs": [
    {
     "name": "stdout",
     "output_type": "stream",
     "text": [
      "0 1 2 3 4 5 \n",
      "0 1 2 3 4 \n",
      "0 1 2 3 \n",
      "0 1 2 \n",
      "0 1 \n"
     ]
    }
   ],
   "source": [
    "\"\"\"\n",
    "    DESCRIPTION: TO PRINT THE ROW INDEX IN THE PATTERN OF LEFT UPPER TRIANGLE\n",
    "\"\"\"\n",
    "\n",
    "for i in range (5):\n",
    "    for j in range(5-i+1):\n",
    "        print(j,end=' ')\n",
    "    print()"
   ]
  },
  {
   "cell_type": "raw",
   "id": "d2650815",
   "metadata": {},
   "source": [
    "QUESTION 3:\n",
    "\n",
    "1\n",
    "3 3\n",
    "5 5 5\n",
    "7 7 7 7\n",
    "9 9 9 9 9"
   ]
  },
  {
   "cell_type": "code",
   "execution_count": 3,
   "id": "39ba82c2",
   "metadata": {
    "scrolled": true
   },
   "outputs": [
    {
     "name": "stdout",
     "output_type": "stream",
     "text": [
      "1 \n",
      "3 3 \n",
      "5 5 5 \n",
      "7 7 7 7 \n",
      "9 9 9 9 9 \n"
     ]
    }
   ],
   "source": [
    "\"\"\"\n",
    "    DESCRIPTION: TO PRINT A LEFT LOWER TRIANGLE OF THE ODD NUMBERS WITH RESPECT TO EACH ROW IN INCREASING ORDER.\n",
    "\"\"\"\n",
    "\n",
    "j=1\n",
    "for i in range(1,10,2):\n",
    "    print((str(i)+' ')*j)\n",
    "    j+=1"
   ]
  },
  {
   "cell_type": "raw",
   "id": "88d9b4e0",
   "metadata": {},
   "source": [
    "QUESTION 4:\n",
    "\n",
    "1\n",
    "2 1\n",
    "3 2 1\n",
    "4 3 2 1\n",
    "5 4 3 2 1"
   ]
  },
  {
   "cell_type": "code",
   "execution_count": 4,
   "id": "caf770a7",
   "metadata": {},
   "outputs": [
    {
     "name": "stdout",
     "output_type": "stream",
     "text": [
      "1 \n",
      "2 1 \n",
      "3 2 1 \n",
      "4 3 2 1 \n",
      "5 4 3 2 1 \n"
     ]
    }
   ],
   "source": [
    "\"\"\"\n",
    "    DESCRIPTION: \n",
    "    -> TO PRINT A LEFT LOWER TRIANGLE WHERE \n",
    "    -> THE NUMBER OF ELEMENTS IN EACH ROW ARE EQUAL TO THE INDEX OF THAT ROW \n",
    "    -> AND THE VALUES IN A ROW ARE ARRANGED IN DESCENDING ORDER OF THE RANGE [1,INDEX OF ROW]\n",
    "\"\"\"\n",
    "for i in range(1,6):\n",
    "    for j in range(i,0,-1):\n",
    "        print(j,end=' ')\n",
    "    print()\n",
    "    "
   ]
  },
  {
   "cell_type": "raw",
   "id": "31f3f469",
   "metadata": {},
   "source": [
    "QUESTION 5:\n",
    "\n",
    "1\n",
    "3 2\n",
    "6 5 4\n",
    "10 9 8 7"
   ]
  },
  {
   "cell_type": "code",
   "execution_count": 5,
   "id": "c2183e00",
   "metadata": {},
   "outputs": [
    {
     "name": "stdout",
     "output_type": "stream",
     "text": [
      "1 \n",
      "3 2 \n",
      "6 5 4 \n",
      "10 9 8 7 \n"
     ]
    }
   ],
   "source": [
    "\"\"\"\n",
    "    DESCRIPTION: \n",
    "    -> TO PRINT THE LEFT LOWER TRIANGLE OF THE NUMBERS IN RANGE [1,10] WHERE \n",
    "    -> THE NUMBER OF ELEMENTS IN EACH ROW IS EQUAL TO THE INDEX NUMBER OF THE ROW \n",
    "    -> AND THE ELEMENTS ARE ARRANGED IN DESCENDING ORDER FROM LEFT TO RIGHT.\n",
    "    \n",
    "\"\"\"\n",
    "k=0\n",
    "for i in range(4):\n",
    "    k+=i+1\n",
    "    for j in range(k,k-i-1,-1):\n",
    "        print(j,end=' ')\n",
    "    print()"
   ]
  },
  {
   "cell_type": "raw",
   "id": "174db3e0",
   "metadata": {},
   "source": [
    "QUESTION 6: \n",
    "\n",
    "1\n",
    "1 1\n",
    "1 2 1\n",
    "1 3 3 1\n",
    "1 4 6 4 1\n",
    "1 5 10 10 5 1\n",
    "1 6 15 20 15 6 1"
   ]
  },
  {
   "cell_type": "code",
   "execution_count": 6,
   "id": "da38f383",
   "metadata": {},
   "outputs": [
    {
     "name": "stdout",
     "output_type": "stream",
     "text": [
      "1 \n",
      "1 1 \n",
      "1 2 1 \n",
      "1 3 3 1 \n",
      "1 4 6 4 1 \n",
      "1 5 10 10 5 1 \n",
      "1 6 15 20 15 6 1 \n"
     ]
    }
   ],
   "source": [
    "\"\"\"\n",
    "    DESCRIPTION: THIS PATTERN IS ALSO KNOWN AS \" PASCAL TRIANGLE \".\n",
    "    -> TO PRINT A LEFT LOWER TRIANGLE SUCH THAT THE VALUE AT EACH POSITION IS EQUAL TO value of nCr.\n",
    "    -> nCr= n!/(r! (n-r)!)\n",
    "    -> n corresponds to row index and r corresponds to column index.\n",
    "\"\"\"\n",
    "\n",
    "from math import factorial \n",
    "for i in range(7):\n",
    "    for j in range(i+1):\n",
    "        print((factorial(i))//((factorial(j))*(factorial(i-j))),end=' ')\n",
    "    \n",
    "    print()"
   ]
  },
  {
   "cell_type": "raw",
   "id": "9b16382b",
   "metadata": {},
   "source": [
    "QUESTION 7:\n",
    "\n",
    "1 2 3 4 5\n",
    "2 2 3 4 5\n",
    "3 3 3 4 5\n",
    "4 4 4 4 5\n",
    "5 5 5 5 5"
   ]
  },
  {
   "cell_type": "code",
   "execution_count": 7,
   "id": "63804d7b",
   "metadata": {},
   "outputs": [
    {
     "name": "stdout",
     "output_type": "stream",
     "text": [
      "1 2 3 4 5 \n",
      "2 2 3 4 5 \n",
      "3 3 3 4 5 \n",
      "4 4 4 4 5 \n",
      "5 5 5 5 5 \n"
     ]
    }
   ],
   "source": [
    "\"\"\"\n",
    "    DESCRIPTION: \n",
    "    -> TO PRINT A MATRIX\n",
    "    -> WHERE THE VALUE IS EQUAL TO ROW INDEX WHEN, ROW INDEX > COLUMN INDEX \n",
    "    -> VALUE EQUAL TO COULMN INDEX IN REST OF THE CASES.\n",
    "\"\"\"\n",
    "\n",
    "for i in range(1,6):\n",
    "    for j in range(1,6):\n",
    "        if i > j:\n",
    "            print(i,end=' ')\n",
    "        else:\n",
    "            print(j,end=' ')\n",
    "    print()"
   ]
  },
  {
   "cell_type": "raw",
   "id": "39072cd1",
   "metadata": {},
   "source": [
    "QUESTION 8:\n",
    "\n",
    "1\n",
    "2 4\n",
    "3 6 9\n",
    "4 8 12 16\n",
    "5 10 15 20 25\n",
    "6 12 18 24 30 36\n",
    "7 14 21 28 35 42 49\n",
    "8 16 24 32 40 48 56 64"
   ]
  },
  {
   "cell_type": "code",
   "execution_count": 8,
   "id": "a8b838b7",
   "metadata": {},
   "outputs": [
    {
     "name": "stdout",
     "output_type": "stream",
     "text": [
      "1 \n",
      "2 4 \n",
      "3 6 9 \n",
      "4 8 12 16 \n",
      "5 10 15 20 25 \n",
      "6 12 18 24 30 36 \n",
      "7 14 21 28 35 42 49 \n",
      "8 16 24 32 40 48 56 64 \n"
     ]
    }
   ],
   "source": [
    "\"\"\"\n",
    "    DESCRIPTION: \n",
    "    -> TO PRINT A LEFT LOWER TRIANGLE \n",
    "    -> WHERE EACH ROW HAS THE VALUES OF ROW INDEX MULTIPLIED BY COLUMN INDEX\n",
    "\"\"\" \n",
    "\n",
    "for i in range(1,9):\n",
    "    for j in range(1,i+1):\n",
    "        print(i*j,end=' ')\n",
    "    print()"
   ]
  },
  {
   "cell_type": "raw",
   "id": "dd7c0fa7",
   "metadata": {},
   "source": [
    "QUESTION 9:\n",
    "\n",
    "      * * * * * *\n",
    "       * * * * *\n",
    "        * * * *\n",
    "         * * *\n",
    "          * *\n",
    "           *"
   ]
  },
  {
   "cell_type": "code",
   "execution_count": 9,
   "id": "a37ffc02",
   "metadata": {},
   "outputs": [
    {
     "name": "stdout",
     "output_type": "stream",
     "text": [
      "      * * * * * * \n",
      "       * * * * * \n",
      "        * * * * \n",
      "         * * * \n",
      "          * * \n",
      "           * \n"
     ]
    }
   ],
   "source": [
    "\n",
    "\n",
    "k=6\n",
    "for j in range(6,0,-1):\n",
    "        print(' '*k+'* '*j)\n",
    "        k+=1"
   ]
  },
  {
   "cell_type": "raw",
   "id": "6008584f",
   "metadata": {},
   "source": [
    "QUESTION 10:\n",
    "\n",
    "         *\n",
    "        * *\n",
    "       * * *\n",
    "      * * * *\n",
    "     * * * * *\n",
    "    * * * * * *\n",
    "   * * * * * * *"
   ]
  },
  {
   "cell_type": "code",
   "execution_count": 10,
   "id": "6d3bd1fb",
   "metadata": {},
   "outputs": [
    {
     "name": "stdout",
     "output_type": "stream",
     "text": [
      "         * \n",
      "        * * \n",
      "       * * * \n",
      "      * * * * \n",
      "     * * * * * \n",
      "    * * * * * * \n",
      "   * * * * * * * \n"
     ]
    }
   ],
   "source": [
    "\"\"\"\n",
    "    DESCRIPTION: TO PRINT A INVERTED TRIANGLE WITH \"*\".\n",
    "\"\"\" \n",
    "\n",
    "k=9\n",
    "for j in range(1,8):\n",
    "        print(' '*k+'* '*j)\n",
    "        k-=1"
   ]
  },
  {
   "cell_type": "raw",
   "id": "d2153dca",
   "metadata": {},
   "source": [
    "QUESTION 11:\n",
    "\n",
    "*\n",
    "* *\n",
    "* * *\n",
    "* * * *\n",
    "* * * * *\n",
    "* * * * * *\n",
    "\n",
    "* * * * * *\n",
    "* * * * *\n",
    "* * * *\n",
    "* * *\n",
    "* *\n",
    "*"
   ]
  },
  {
   "cell_type": "code",
   "execution_count": 11,
   "id": "1e96787c",
   "metadata": {},
   "outputs": [
    {
     "name": "stdout",
     "output_type": "stream",
     "text": [
      "* \n",
      "* * \n",
      "* * * \n",
      "* * * * \n",
      "* * * * * \n",
      "* * * * * * \n",
      "\n",
      "* * * * * * \n",
      "* * * * * \n",
      "* * * * \n",
      "* * * \n",
      "* * \n",
      "* \n"
     ]
    }
   ],
   "source": [
    "\"\"\"\n",
    "    DESCRIPTION: TO PRINT ALEFT LOWER TRIANGLE AND LEFT UPPER TRIANGE ARRGANGED AT TOP AND BOTTOM RESPECTIVELY, WITH \"*\".\n",
    "\"\"\"  \n",
    "\n",
    "for j in range(1,7):\n",
    "        print('* '*j)\n",
    "print()\n",
    "for j in range(6,0,-1):\n",
    "        print('* '*j)\n",
    "        "
   ]
  },
  {
   "cell_type": "raw",
   "id": "2edb8588",
   "metadata": {},
   "source": [
    "QUESTION 12:\n",
    "\n",
    "*\n",
    "* *\n",
    "* * *\n",
    "* * * *\n",
    "* * * * *\n",
    "* * * *\n",
    "* * *\n",
    "* *\n",
    "*"
   ]
  },
  {
   "cell_type": "code",
   "execution_count": 12,
   "id": "db15b9e0",
   "metadata": {},
   "outputs": [
    {
     "name": "stdout",
     "output_type": "stream",
     "text": [
      "* \n",
      "* * \n",
      "* * * \n",
      "* * * * \n",
      "* * * * * \n",
      "* * * * \n",
      "* * * \n",
      "* * \n",
      "* \n"
     ]
    }
   ],
   "source": [
    "\"\"\"\n",
    "    DESCRIPTION: TO PRINT A RIGHT POINTING TRIANGLE WITH \"*\".\n",
    "\"\"\"  \n",
    "\n",
    "for j in range(1,5):\n",
    "        print('* '*j)\n",
    "for j in range(5,0,-1):\n",
    "        print('* '*j)"
   ]
  },
  {
   "cell_type": "raw",
   "id": "05f93a81",
   "metadata": {},
   "source": [
    "QUESTION 13:\n",
    "\n",
    "        *\n",
    "      * *\n",
    "    * * *\n",
    "  * * * *\n",
    "* * * * *\n",
    "  * * * *\n",
    "    * * *\n",
    "      * *\n",
    "        *"
   ]
  },
  {
   "cell_type": "code",
   "execution_count": 13,
   "id": "792b096f",
   "metadata": {},
   "outputs": [
    {
     "name": "stdout",
     "output_type": "stream",
     "text": [
      "        * \n",
      "      * * \n",
      "    * * * \n",
      "  * * * * \n",
      "* * * * * \n",
      "  * * * * \n",
      "    * * * \n",
      "      * * \n",
      "        * \n"
     ]
    }
   ],
   "source": [
    "\"\"\"\n",
    "    DESCRIPTION: TO PRINT A LEFT POINTING TRIANGLE WITH \"*\".\n",
    "\"\"\" \n",
    "\n",
    "k=8\n",
    "for j in range(1,5):\n",
    "        print(' '*k+'* '*j)\n",
    "        k-=2\n",
    "for j in range(5,0,-1):\n",
    "        print(' '*k+'* '*j)\n",
    "        k+=2"
   ]
  },
  {
   "cell_type": "raw",
   "id": "f05a0394",
   "metadata": {},
   "source": [
    "QUESTION 14:\n",
    "\n",
    "* * * * *\n",
    " * * * *\n",
    "  * * *\n",
    "   * *\n",
    "    *\n",
    "    *\n",
    "   * *\n",
    "  * * *\n",
    " * * * *\n",
    "* * * * *\n"
   ]
  },
  {
   "cell_type": "code",
   "execution_count": 14,
   "id": "a00c84a3",
   "metadata": {},
   "outputs": [
    {
     "name": "stdout",
     "output_type": "stream",
     "text": [
      "* * * * * \n",
      " * * * * \n",
      "  * * * \n",
      "   * * \n",
      "    * \n",
      "    * \n",
      "   * * \n",
      "  * * * \n",
      " * * * * \n",
      "* * * * * \n"
     ]
    }
   ],
   "source": [
    "\"\"\"\n",
    "    DESCRIPTION: TO PRINT TWO TRIANGLES WITH \"*\", POINTING EACH OTHER VERTICALLY.\n",
    "\"\"\" \n",
    "\n",
    "k=0\n",
    "for i in range(5,0,-1):\n",
    "    print(' '*k+'* '*i)\n",
    "    k+=1\n",
    "for i in range(1,6):\n",
    "    print(' '*(k-1)+'* '*i)\n",
    "    k-=1\n",
    "    "
   ]
  },
  {
   "cell_type": "raw",
   "id": "7c807e4d",
   "metadata": {},
   "source": [
    "QUESTION 15:\n",
    "\n",
    "****************\n",
    "*******__*******\n",
    "******____******\n",
    "*****______*****\n",
    "****________****\n",
    "***__________***\n",
    "**____________**\n",
    "*______________*"
   ]
  },
  {
   "cell_type": "code",
   "execution_count": 15,
   "id": "6f2f1844",
   "metadata": {},
   "outputs": [
    {
     "name": "stdout",
     "output_type": "stream",
     "text": [
      "****************\n",
      "*******__*******\n",
      "******____******\n",
      "*****______*****\n",
      "****________****\n",
      "***__________***\n",
      "**____________**\n",
      "*______________*\n"
     ]
    }
   ],
   "source": [
    "\"\"\"\n",
    "    DESCRIPTION: TO PRINT TWO TRIANGLES WITH \"*\", AS THE PATTERN GIVEN.\n",
    "\"\"\"  \n",
    "\n",
    "k=0\n",
    "\n",
    "for i in range (8,0,-1):\n",
    "    print('*'*i+'_'*k+'*'*i)\n",
    "    k=k+2"
   ]
  },
  {
   "cell_type": "code",
   "execution_count": null,
   "id": "2164a7de",
   "metadata": {},
   "outputs": [],
   "source": []
  }
 ],
 "metadata": {
  "kernelspec": {
   "display_name": "Python 3 (ipykernel)",
   "language": "python",
   "name": "python3"
  },
  "language_info": {
   "codemirror_mode": {
    "name": "ipython",
    "version": 3
   },
   "file_extension": ".py",
   "mimetype": "text/x-python",
   "name": "python",
   "nbconvert_exporter": "python",
   "pygments_lexer": "ipython3",
   "version": "3.9.6"
  }
 },
 "nbformat": 4,
 "nbformat_minor": 5
}
